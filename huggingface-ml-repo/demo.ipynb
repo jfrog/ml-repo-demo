{
 "cells": [
  {
   "cell_type": "markdown",
   "id": "c693aaf2-ad79-4fff-bcc0-c5f4962e8caa",
   "metadata": {},
   "source": [
    "# ML Model Management Demo Notebook\n",
    "Use this notebook to experiment with the JFrog Artifactory ML Model Management feature and the Xray model scanning capabilities.\n",
    "\n",
    "### ⚠️ Note: It is highly advised to clear your Hugging Face local model cache before running this demo.\n",
    "## Set Up Hugging Face Environment"
   ]
  },
  {
   "cell_type": "code",
   "execution_count": null,
   "id": "1e798b1a-54c0-402e-a099-27ba859b4c39",
   "metadata": {
    "metadata": {}
   },
   "outputs": [],
   "source": [
    "# Replace the <IDENTITY-TOKEN> placeholder with the token you generated in the JFrog Platform SetMeUp.\n",
    "%env HF_TOKEN=<IDENTITY-TOKEN>\n",
    "# Replace the <PATH> placeholder with the path to your ML Model Management repository in Artifactory, found in the JFrog Platform SetMeUp.\n",
    "%env HF_ENDPOINT=<PATH>\n",
    "\n",
    "%env  HF_HUB_ETAG_TIMEOUT=1500000000"
   ]
  },
  {
   "cell_type": "markdown",
   "id": "95d0330d-6b39-4354-8c04-810b267c839e",
   "metadata": {},
   "source": [
    "## Install Required PyPI Packages from JFrog Artifactory"
   ]
  },
  {
   "cell_type": "code",
   "execution_count": null,
   "id": "55772b02-d999-42d6-9b79-74e870b74e6a",
   "metadata": {
    "metadata": {}
   },
   "outputs": [],
   "source": [
    "# Replace <ARTIFACTORY_PIP_REPOSITORY_URL> with the URL pointing to your pip repository found in the the JFrog Platform Set-Me-Up.\n",
    "!pip3 install transformers numpy scikit-image pillow torch ipywidgets torchvision pipeline -i <ARTIFACTORY_PIP_REPOSITORY_URL>"
   ]
  },
  {
   "cell_type": "markdown",
   "id": "470a539d-693c-4baf-ba76-b36d3c573013",
   "metadata": {},
   "source": [
    "## Import Required Packages"
   ]
  },
  {
   "cell_type": "code",
   "execution_count": null,
   "id": "1c59d30f-c819-4072-bdef-fc6ddf0f7c12",
   "metadata": {
    "metadata": {}
   },
   "outputs": [],
   "source": [
    "import skimage\n",
    "import numpy as np\n",
    "from PIL import Image\n",
    "from transformers import pipeline\n",
    "from transformers.utils import logging\n",
    "from transformers import AutoProcessor, AutoModelForZeroShotObjectDetection\n",
    "from PIL import ImageDraw\n",
    "from PIL import ImageFont\n",
    "import torch\n",
    "\n",
    "# Ignore warnings\n",
    "logging.set_verbosity_error()"
   ]
  },
  {
   "cell_type": "markdown",
   "id": "5409cbfb-3813-457f-b5c4-4b3b7aa29256",
   "metadata": {},
   "source": [
    "---"
   ]
  },
  {
   "cell_type": "markdown",
   "id": "2f86403b-f4c7-40f5-a0f9-8320f446da2e",
   "metadata": {},
   "source": [
    "# Run the Demo"
   ]
  },
  {
   "cell_type": "markdown",
   "id": "4df0037b-cc10-4fb3-b1a6-5c6c4f7997a2",
   "metadata": {},
   "source": [
    "## Block an Unlicensed Hugging Face Model using Xray\n",
    "Prior to running this stage, create an Xray policy that blocks the download of unlicensed artifacts in you ML Model Management repository. For more information, see [Creating Xray Policies and Rules](https://jfrog.com/help/r/jfrog-security-documentation/creating-xray-policies-and-rules). "
   ]
  },
  {
   "cell_type": "code",
   "execution_count": null,
   "id": "f86cce37-c8f0-45a0-908b-cd54d18a9ad0",
   "metadata": {},
   "outputs": [],
   "source": [
    "from huggingface_hub import snapshot_download\n",
    "from huggingface_hub.utils import HfHubHTTPError\n",
    "\n",
    "\n",
    "try:\n",
    "    snapshot_download(repo_id=\"MustEr/best_model_for_identifying_frogs\")\n",
    "except HfHubHTTPError as e:\n",
    "    print(\"\\n\\n\\U0001F6A8\\U0001F6A8\\U0001F6A8\\U0001F6A8 Xray blocked model download due to violation of the 'Block-Unknown' license policy.\\U0001F6A8\\U0001F6A8\\U0001F6A8\\U0001F6A8\\n\\n\")"
   ]
  },
  {
   "cell_type": "markdown",
   "id": "291b0676-b627-44b1-bf60-d4b6027597b7",
   "metadata": {},
   "source": [
    "## Use A Hugging Face Model With Artifactory"
   ]
  },
  {
   "cell_type": "markdown",
   "id": "a98f4c43-e70f-4e9f-9f2d-4f1c587e69f4",
   "metadata": {},
   "source": [
    "### Load And Configure the OWL-ViT Transformer"
   ]
  },
  {
   "cell_type": "code",
   "execution_count": null,
   "id": "aa590da1-b9a2-4f50-86cc-59a1ec1157f5",
   "metadata": {
    "metadata": {}
   },
   "outputs": [],
   "source": [
    "from huggingface_hub import snapshot_download\n",
    "from huggingface_hub.utils import HfHubHTTPError\n",
    "\n",
    "\n",
    "try:\n",
    "    snapshot_download(repo_id=\"google/owlvit-base-patch32\")\n",
    "except HfHubHTTPError as e:\n",
    "    print(\"\\n\\n\\U0001F6A8\\U0001F6A8\\U0001F6A8\\U0001F6A8 Xray blocked model download due to violation of the 'Block-Unknown' license policy.\\U0001F6A8\\U0001F6A8\\U0001F6A8\\U0001F6A8\\n\\n\")"
   ]
  },
  {
   "cell_type": "code",
   "execution_count": null,
   "id": "651a91ac-8b68-41ae-a26c-65b04a4ab2ba",
   "metadata": {
    "metadata": {}
   },
   "outputs": [],
   "source": [
    "checkpoint = \"google/owlvit-base-patch32\"\n",
    "detector = pipeline(model=checkpoint, task=\"zero-shot-object-detection\")\n",
    "model = AutoModelForZeroShotObjectDetection.from_pretrained(checkpoint)\n",
    "processor = AutoProcessor.from_pretrained(checkpoint)"
   ]
  },
  {
   "cell_type": "markdown",
   "id": "e0a7c230-055f-48d2-b0e9-f71d692e3cff",
   "metadata": {},
   "source": [
    "### Display the Base Image"
   ]
  },
  {
   "cell_type": "code",
   "execution_count": null,
   "id": "d574f7f1-b5d3-4fc0-9c84-6991146a844a",
   "metadata": {
    "metadata": {}
   },
   "outputs": [],
   "source": [
    "im = Image.open(\"./img/frog2.jpg\")\n",
    "display(im)"
   ]
  },
  {
   "cell_type": "markdown",
   "id": "565f6902-9c7d-42e2-846f-3c95305150b4",
   "metadata": {},
   "source": [
    "### Where Are the Frogs?"
   ]
  },
  {
   "cell_type": "code",
   "execution_count": null,
   "id": "72dc2c58-89ae-40be-902d-da12b7bccc6a",
   "metadata": {
    "metadata": {}
   },
   "outputs": [],
   "source": [
    "text_queries = [\"Frog\", \"Cat\"]\n",
    "inputs = processor(text=text_queries, images=im, return_tensors=\"pt\")\n",
    "draw = ImageDraw.Draw(im)\n",
    "\n",
    "with torch.no_grad():\n",
    "    outputs = model(**inputs)\n",
    "    target_sizes = torch.tensor([im.size[::-1]])\n",
    "    results = processor.post_process_object_detection(outputs, threshold=0.25, target_sizes=target_sizes)[0]\n",
    "\n",
    "draw = ImageDraw.Draw(im)\n",
    "\n",
    "scores = results[\"scores\"].tolist()\n",
    "labels = results[\"labels\"].tolist()\n",
    "boxes = results[\"boxes\"].tolist()\n",
    "\n",
    "for box, score, label in zip(boxes, scores, labels): \n",
    "    outline = \"green\"\n",
    "    caption = text_queries[label]\n",
    "    if label != 0: # Frog is the zero ordinal in lables\n",
    "        outline = \"red\"\n",
    "        caption = \"Not a Frog!!!!\"\n",
    "        \n",
    "    xmin, ymin, xmax, ymax = box\n",
    "    font = ImageFont.truetype(r'fonts/OpenSans-VariableFont_wdth,wght.ttf', 60) \n",
    "    draw.rectangle((xmin, ymin, xmax, ymax), outline=outline, width=3)\n",
    "    draw.text((xmin, ymin), f\"{caption}\", fill=outline, font = font)\n",
    "\n",
    "display(im)\n",
    "# Close image\n",
    "im.close()"
   ]
  }
 ],
 "metadata": {
  "kernelspec": {
   "display_name": "Python 3 (ipykernel)",
   "language": "python",
   "name": "python3"
  },
  "language_info": {
   "codemirror_mode": {
    "name": "ipython",
    "version": 3
   },
   "file_extension": ".py",
   "mimetype": "text/x-python",
   "name": "python",
   "nbconvert_exporter": "python",
   "pygments_lexer": "ipython3",
   "version": "3.12.3"
  },
  "vscode": {
   "interpreter": {
    "hash": "aee8b7b246df8f9039afb4144a1f6fd8d2ca17a180786b69acc140d282b71a49"
   }
  }
 },
 "nbformat": 4,
 "nbformat_minor": 5
}
